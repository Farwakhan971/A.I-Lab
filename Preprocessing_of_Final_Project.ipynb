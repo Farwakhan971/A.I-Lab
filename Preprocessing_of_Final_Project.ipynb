{
  "nbformat": 4,
  "nbformat_minor": 0,
  "metadata": {
    "colab": {
      "provenance": [],
      "gpuType": "T4",
      "authorship_tag": "ABX9TyMx6NWPbjwk9otxz+edrAFP",
      "include_colab_link": true
    },
    "kernelspec": {
      "name": "python3",
      "display_name": "Python 3"
    },
    "language_info": {
      "name": "python"
    }
  },
  "cells": [
    {
      "cell_type": "markdown",
      "metadata": {
        "id": "view-in-github",
        "colab_type": "text"
      },
      "source": [
        "<a href=\"https://colab.research.google.com/github/Farwakhan971/A.I-Lab/blob/main/Preprocessing_of_Final_Project.ipynb\" target=\"_parent\"><img src=\"https://colab.research.google.com/assets/colab-badge.svg\" alt=\"Open In Colab\"/></a>"
      ]
    },
    {
      "cell_type": "markdown",
      "source": [
        "### Farwa Khan \n",
        "\n",
        "### FA20-BSE-043"
      ],
      "metadata": {
        "id": "0ax_dwpPRpuL"
      }
    },
    {
      "cell_type": "code",
      "source": [
        "from google.colab import drive\n",
        "drive.mount('/content/drive')"
      ],
      "metadata": {
        "colab": {
          "base_uri": "https://localhost:8080/"
        },
        "id": "q_xeRRcXs8Mg",
        "outputId": "5b4070c7-45b0-4216-8d0e-082ec048dcdd"
      },
      "execution_count": 2,
      "outputs": [
        {
          "output_type": "stream",
          "name": "stdout",
          "text": [
            "Mounted at /content/drive\n"
          ]
        }
      ]
    },
    {
      "cell_type": "code",
      "source": [
        "import pandas as pd\n",
        "news_data = pd.read_csv('/content/drive/MyDrive/Fake_news_prediction.csv', encoding='unicode_escape')"
      ],
      "metadata": {
        "id": "hxAU_6xw3k9o"
      },
      "execution_count": 3,
      "outputs": []
    },
    {
      "cell_type": "code",
      "source": [
        "df = pd.DataFrame(news_data)\n",
        "print(df)"
      ],
      "metadata": {
        "id": "iqcdTCo14cUa",
        "colab": {
          "base_uri": "https://localhost:8080/"
        },
        "outputId": "f6e8a9aa-0dea-46d0-bf92-092272beff74"
      },
      "execution_count": 4,
      "outputs": [
        {
          "output_type": "stream",
          "name": "stdout",
          "text": [
            "        unit_id                                      article_title  \\\n",
            "0    1914947530  Syria attack symptoms consistent with nerve ag...   \n",
            "1    1914947532  Homs governor says U.S. attack caused deaths b...   \n",
            "2            na    Death toll from Aleppo bomb attack at least 112   \n",
            "3    1914947534        Aleppo bomb blast kills six Syrian state TV   \n",
            "4    1914947535  29 Syria Rebels Dead in Fighting for Key Alepp...   \n",
            "..          ...                                                ...   \n",
            "799  1965511221    Turkish Bombardment Kills 20 Civilians in Syria   \n",
            "800  1965511222    Martyrs as Terrorists Shell Aleppos Salah Eddin   \n",
            "801  1965511224  Chemical Attack Kills Five Syrians in Aleppo SANA   \n",
            "802  1965511226  5 Killed as Russian Military Chopper Shot down...   \n",
            "803  1965511231  Syrian Army Kills 48 ISIL Terrorists in Deir E...   \n",
            "\n",
            "                                       article_content source       date  \\\n",
            "0    Wed 05 Apr 2017 Syria attack symptoms consiste...    nna   4/5/2017   \n",
            "1    Fri 07 Apr 2017 at 0914 Homs governor says U.S...    nna   4/7/2017   \n",
            "2    Sun 16 Apr 2017 Death toll from Aleppo bomb at...    nna  4/16/2017   \n",
            "3    Wed 19 Apr 2017 Aleppo bomb blast kills six Sy...    nna  4/19/2017   \n",
            "4    Sun 10 Jul 2016 29 Syria Rebels Dead in Fighti...    nna  7/10/2016   \n",
            "..                                                 ...    ...        ...   \n",
            "799  28-08-2016 Turkish Bombardment Kills 20 Civili...  manar  8/28/2016   \n",
            "800  17-08-2016 Martyrs as Terrorists Shell Aleppos...  manar   8/1/2016   \n",
            "801  03-08-2016 Chemical Attack Kills Five Syrians ...  manar   8/3/2016   \n",
            "802  01-08-2016 5 Killed as Russian Military Choppe...  manar   8/1/2016   \n",
            "803  April 6 2017 Syrian Army Kills 48 ISIL Terrori...  manar   4/4/2017   \n",
            "\n",
            "       location  labels  \n",
            "0         idlib       0  \n",
            "1          homs       0  \n",
            "2        aleppo       0  \n",
            "3        aleppo       0  \n",
            "4        aleppo       0  \n",
            "..          ...     ...  \n",
            "799      aleppo       1  \n",
            "800      aleppo       1  \n",
            "801      aleppo       0  \n",
            "802       idlib       1  \n",
            "803  deir ezzor       1  \n",
            "\n",
            "[804 rows x 7 columns]\n"
          ]
        }
      ]
    },
    {
      "cell_type": "code",
      "source": [
        "print(df.loc[1])"
      ],
      "metadata": {
        "colab": {
          "base_uri": "https://localhost:8080/"
        },
        "id": "WUAlIXOKHrbs",
        "outputId": "3b7b1c14-7ad1-483c-ceb1-a5eba6091ea5"
      },
      "execution_count": 5,
      "outputs": [
        {
          "output_type": "stream",
          "name": "stdout",
          "text": [
            "unit_id                                                   1914947532\n",
            "article_title      Homs governor says U.S. attack caused deaths b...\n",
            "article_content    Fri 07 Apr 2017 at 0914 Homs governor says U.S...\n",
            "source                                                           nna\n",
            "date                                                        4/7/2017\n",
            "location                                                        homs\n",
            "labels                                                             0\n",
            "Name: 1, dtype: object\n"
          ]
        }
      ]
    },
    {
      "cell_type": "code",
      "source": [
        "print(df.loc[[10, 20]])"
      ],
      "metadata": {
        "colab": {
          "base_uri": "https://localhost:8080/"
        },
        "id": "oG0epE-1IIAj",
        "outputId": "00c61f0f-e241-48c9-ac2b-2b4220c70ef3"
      },
      "execution_count": 6,
      "outputs": [
        {
          "output_type": "stream",
          "name": "stdout",
          "text": [
            "       unit_id                                   article_title  \\\n",
            "10  1915433669  Syrian regime steps up aerial assault on Douma   \n",
            "20  1915433694     Syria army plane crashes in rebel-held town   \n",
            "\n",
            "                                      article_content   source       date  \\\n",
            "10  12 February 2015 Casualties mount in the Easte...  alaraby  2/12/2015   \n",
            "20  3 August 2015 A Syrian military aircraft crash...  alaraby   8/3/2015   \n",
            "\n",
            "    location  labels  \n",
            "10  damascus       1  \n",
            "20     idlib       0  \n"
          ]
        }
      ]
    },
    {
      "cell_type": "code",
      "source": [
        "print(df.head(10))"
      ],
      "metadata": {
        "id": "OiJpbBYUJFHp",
        "colab": {
          "base_uri": "https://localhost:8080/"
        },
        "outputId": "e55d5c10-1c54-4466-f12e-284aba833864"
      },
      "execution_count": 7,
      "outputs": [
        {
          "output_type": "stream",
          "name": "stdout",
          "text": [
            "      unit_id                                      article_title  \\\n",
            "0  1914947530  Syria attack symptoms consistent with nerve ag...   \n",
            "1  1914947532  Homs governor says U.S. attack caused deaths b...   \n",
            "2          na    Death toll from Aleppo bomb attack at least 112   \n",
            "3  1914947534        Aleppo bomb blast kills six Syrian state TV   \n",
            "4  1914947535  29 Syria Rebels Dead in Fighting for Key Alepp...   \n",
            "5  1914947536  Suicide bombing kills at least 16 in northeast...   \n",
            "6  1914947537  22 dead in heavy U.S. raids on IS Syria strong...   \n",
            "7  1914947538     Suicide bomber kills 4 in Assad clans hometown   \n",
            "8  1914947539                 Explosion rocks down town Damascus   \n",
            "9  1914947540              Damascus explosion due to rocket bomb   \n",
            "\n",
            "                                     article_content source       date  \\\n",
            "0  Wed 05 Apr 2017 Syria attack symptoms consiste...    nna   4/5/2017   \n",
            "1  Fri 07 Apr 2017 at 0914 Homs governor says U.S...    nna   4/7/2017   \n",
            "2  Sun 16 Apr 2017 Death toll from Aleppo bomb at...    nna  4/16/2017   \n",
            "3  Wed 19 Apr 2017 Aleppo bomb blast kills six Sy...    nna  4/19/2017   \n",
            "4  Sun 10 Jul 2016 29 Syria Rebels Dead in Fighti...    nna  7/10/2016   \n",
            "5  Tue 05 Jul 2016 Suicide bombing kills at least...    nna   7/5/2016   \n",
            "6  Sun 05 Jul 2015 22 dead in heavy U.S. raids on...    nna   7/5/2015   \n",
            "7  Sun 22 Feb 2015 Suicide bomber kills 4 in Assa...    nna  2/22/2015   \n",
            "8  Sun 01 Feb 2015 Explosion rocks down town Dama...    nna   2/1/2015   \n",
            "9  Sat 24 Aug 2013 Damascus explosion due to rock...    nna  8/24/2013   \n",
            "\n",
            "   location  labels  \n",
            "0     idlib       0  \n",
            "1      homs       0  \n",
            "2    aleppo       0  \n",
            "3    aleppo       0  \n",
            "4    aleppo       0  \n",
            "5   hasakeh       0  \n",
            "6     raqqa       0  \n",
            "7  lattakia       0  \n",
            "8  damascus       1  \n",
            "9  damascus       0  \n"
          ]
        }
      ]
    },
    {
      "cell_type": "code",
      "source": [
        "print(df.tail())"
      ],
      "metadata": {
        "colab": {
          "base_uri": "https://localhost:8080/"
        },
        "id": "xO11-BhGBlhE",
        "outputId": "aff57615-96f3-43ba-f23b-e5c6b98bd1c1"
      },
      "execution_count": 8,
      "outputs": [
        {
          "output_type": "stream",
          "name": "stdout",
          "text": [
            "        unit_id                                      article_title  \\\n",
            "799  1965511221    Turkish Bombardment Kills 20 Civilians in Syria   \n",
            "800  1965511222    Martyrs as Terrorists Shell Aleppos Salah Eddin   \n",
            "801  1965511224  Chemical Attack Kills Five Syrians in Aleppo SANA   \n",
            "802  1965511226  5 Killed as Russian Military Chopper Shot down...   \n",
            "803  1965511231  Syrian Army Kills 48 ISIL Terrorists in Deir E...   \n",
            "\n",
            "                                       article_content source       date  \\\n",
            "799  28-08-2016 Turkish Bombardment Kills 20 Civili...  manar  8/28/2016   \n",
            "800  17-08-2016 Martyrs as Terrorists Shell Aleppos...  manar   8/1/2016   \n",
            "801  03-08-2016 Chemical Attack Kills Five Syrians ...  manar   8/3/2016   \n",
            "802  01-08-2016 5 Killed as Russian Military Choppe...  manar   8/1/2016   \n",
            "803  April 6 2017 Syrian Army Kills 48 ISIL Terrori...  manar   4/4/2017   \n",
            "\n",
            "       location  labels  \n",
            "799      aleppo       1  \n",
            "800      aleppo       1  \n",
            "801      aleppo       0  \n",
            "802       idlib       1  \n",
            "803  deir ezzor       1  \n"
          ]
        }
      ]
    },
    {
      "cell_type": "code",
      "source": [
        "print(df.info()) "
      ],
      "metadata": {
        "colab": {
          "base_uri": "https://localhost:8080/"
        },
        "id": "gOGLn-_OBsGK",
        "outputId": "104d2e38-fd2e-48ae-daa0-b2516e5b1c9a"
      },
      "execution_count": 9,
      "outputs": [
        {
          "output_type": "stream",
          "name": "stdout",
          "text": [
            "<class 'pandas.core.frame.DataFrame'>\n",
            "RangeIndex: 804 entries, 0 to 803\n",
            "Data columns (total 7 columns):\n",
            " #   Column           Non-Null Count  Dtype \n",
            "---  ------           --------------  ----- \n",
            " 0   unit_id          804 non-null    object\n",
            " 1   article_title    804 non-null    object\n",
            " 2   article_content  804 non-null    object\n",
            " 3   source           804 non-null    object\n",
            " 4   date             804 non-null    object\n",
            " 5   location         804 non-null    object\n",
            " 6   labels           804 non-null    int64 \n",
            "dtypes: int64(1), object(6)\n",
            "memory usage: 44.1+ KB\n",
            "None\n"
          ]
        }
      ]
    },
    {
      "cell_type": "code",
      "source": [
        "if df is not None:\n",
        "  df[\"unit_id\"].fillna(1914947533, inplace = True)\n",
        "  print(df.head(5))\n",
        "else:\n",
        "  print(\"Error: df is None and cannot apply fillna().\")\n"
      ],
      "metadata": {
        "colab": {
          "base_uri": "https://localhost:8080/"
        },
        "id": "du7y6VVyB3yt",
        "outputId": "3e4288ec-ef2e-4728-f510-5d01ed42d8f4"
      },
      "execution_count": 24,
      "outputs": [
        {
          "output_type": "stream",
          "name": "stdout",
          "text": [
            "      unit_id                                      article_title  \\\n",
            "0  1914947530  Syria attack symptoms consistent with nerve ag...   \n",
            "1  1914947532  Homs governor says U.S. attack caused deaths b...   \n",
            "2          na    Death toll from Aleppo bomb attack at least 112   \n",
            "3  1914947534        Aleppo bomb blast kills six Syrian state TV   \n",
            "4  1914947535  29 Syria Rebels Dead in Fighting for Key Alepp...   \n",
            "\n",
            "                                     article_content source       date  \\\n",
            "0  Wed 05 Apr 2017 Syria attack symptoms consiste...    nna 2017-04-05   \n",
            "1  Fri 07 Apr 2017 at 0914 Homs governor says U.S...    nna 2017-04-07   \n",
            "2  Sun 16 Apr 2017 Death toll from Aleppo bomb at...    nna 2017-04-16   \n",
            "3  Wed 19 Apr 2017 Aleppo bomb blast kills six Sy...    nna 2017-04-19   \n",
            "4  Sun 10 Jul 2016 29 Syria Rebels Dead in Fighti...    nna 2016-07-10   \n",
            "\n",
            "  location  labels  \n",
            "0    idlib       0  \n",
            "1     homs       0  \n",
            "2   aleppo       0  \n",
            "3   aleppo       0  \n",
            "4   aleppo       0  \n"
          ]
        }
      ]
    },
    {
      "cell_type": "code",
      "source": [
        "if df is not None:\n",
        "  df[\"source\"].fillna(\"alaraby\", inplace = True)\n",
        "  print(df.head(10))\n",
        "\n",
        "else:\n",
        "  print(\"Error: df is None and cannot apply fillna().\")"
      ],
      "metadata": {
        "colab": {
          "base_uri": "https://localhost:8080/"
        },
        "id": "b0RMgLXMCiRg",
        "outputId": "cd328a48-716e-4270-e961-2a93116942f6"
      },
      "execution_count": 23,
      "outputs": [
        {
          "output_type": "stream",
          "name": "stdout",
          "text": [
            "      unit_id                                      article_title  \\\n",
            "0  1914947530  Syria attack symptoms consistent with nerve ag...   \n",
            "1  1914947532  Homs governor says U.S. attack caused deaths b...   \n",
            "2          na    Death toll from Aleppo bomb attack at least 112   \n",
            "3  1914947534        Aleppo bomb blast kills six Syrian state TV   \n",
            "4  1914947535  29 Syria Rebels Dead in Fighting for Key Alepp...   \n",
            "5  1914947536  Suicide bombing kills at least 16 in northeast...   \n",
            "6  1914947537  22 dead in heavy U.S. raids on IS Syria strong...   \n",
            "7  1914947538     Suicide bomber kills 4 in Assad clans hometown   \n",
            "8  1914947539                 Explosion rocks down town Damascus   \n",
            "9  1914947540              Damascus explosion due to rocket bomb   \n",
            "\n",
            "                                     article_content source       date  \\\n",
            "0  Wed 05 Apr 2017 Syria attack symptoms consiste...    nna 2017-04-05   \n",
            "1  Fri 07 Apr 2017 at 0914 Homs governor says U.S...    nna 2017-04-07   \n",
            "2  Sun 16 Apr 2017 Death toll from Aleppo bomb at...    nna 2017-04-16   \n",
            "3  Wed 19 Apr 2017 Aleppo bomb blast kills six Sy...    nna 2017-04-19   \n",
            "4  Sun 10 Jul 2016 29 Syria Rebels Dead in Fighti...    nna 2016-07-10   \n",
            "5  Tue 05 Jul 2016 Suicide bombing kills at least...    nna 2016-07-05   \n",
            "6  Sun 05 Jul 2015 22 dead in heavy U.S. raids on...    nna 2015-07-05   \n",
            "7  Sun 22 Feb 2015 Suicide bomber kills 4 in Assa...    nna 2015-02-22   \n",
            "8  Sun 01 Feb 2015 Explosion rocks down town Dama...    nna 2015-02-01   \n",
            "9  Sat 24 Aug 2013 Damascus explosion due to rock...    nna 2013-08-24   \n",
            "\n",
            "   location  labels  \n",
            "0     idlib       0  \n",
            "1      homs       0  \n",
            "2    aleppo       0  \n",
            "3    aleppo       0  \n",
            "4    aleppo       0  \n",
            "5   hasakeh       0  \n",
            "6     raqqa       0  \n",
            "7  lattakia       0  \n",
            "8  damascus       1  \n",
            "9  damascus       0  \n"
          ]
        }
      ]
    },
    {
      "cell_type": "code",
      "source": [
        "df['date'] = pd.to_datetime(df['date'])\n",
        "print(df)"
      ],
      "metadata": {
        "colab": {
          "base_uri": "https://localhost:8080/"
        },
        "id": "_7WyaDzGMLw-",
        "outputId": "b1f03f7c-8ee1-4f8f-8148-6c69ff6744a4"
      },
      "execution_count": 18,
      "outputs": [
        {
          "output_type": "stream",
          "name": "stdout",
          "text": [
            "        unit_id                                      article_title  \\\n",
            "0    1914947530  Syria attack symptoms consistent with nerve ag...   \n",
            "1    1914947532  Homs governor says U.S. attack caused deaths b...   \n",
            "2            na    Death toll from Aleppo bomb attack at least 112   \n",
            "3    1914947534        Aleppo bomb blast kills six Syrian state TV   \n",
            "4    1914947535  29 Syria Rebels Dead in Fighting for Key Alepp...   \n",
            "..          ...                                                ...   \n",
            "799  1965511221    Turkish Bombardment Kills 20 Civilians in Syria   \n",
            "800  1965511222    Martyrs as Terrorists Shell Aleppos Salah Eddin   \n",
            "801  1965511224  Chemical Attack Kills Five Syrians in Aleppo SANA   \n",
            "802  1965511226  5 Killed as Russian Military Chopper Shot down...   \n",
            "803  1965511231  Syrian Army Kills 48 ISIL Terrorists in Deir E...   \n",
            "\n",
            "                                       article_content source       date  \\\n",
            "0    Wed 05 Apr 2017 Syria attack symptoms consiste...    nna 2017-04-05   \n",
            "1    Fri 07 Apr 2017 at 0914 Homs governor says U.S...    nna 2017-04-07   \n",
            "2    Sun 16 Apr 2017 Death toll from Aleppo bomb at...    nna 2017-04-16   \n",
            "3    Wed 19 Apr 2017 Aleppo bomb blast kills six Sy...    nna 2017-04-19   \n",
            "4    Sun 10 Jul 2016 29 Syria Rebels Dead in Fighti...    nna 2016-07-10   \n",
            "..                                                 ...    ...        ...   \n",
            "799  28-08-2016 Turkish Bombardment Kills 20 Civili...  manar 2016-08-28   \n",
            "800  17-08-2016 Martyrs as Terrorists Shell Aleppos...  manar 2016-08-01   \n",
            "801  03-08-2016 Chemical Attack Kills Five Syrians ...  manar 2016-08-03   \n",
            "802  01-08-2016 5 Killed as Russian Military Choppe...  manar 2016-08-01   \n",
            "803  April 6 2017 Syrian Army Kills 48 ISIL Terrori...  manar 2017-04-04   \n",
            "\n",
            "       location  labels  \n",
            "0         idlib       0  \n",
            "1          homs       0  \n",
            "2        aleppo       0  \n",
            "3        aleppo       0  \n",
            "4        aleppo       0  \n",
            "..          ...     ...  \n",
            "799      aleppo       1  \n",
            "800      aleppo       1  \n",
            "801      aleppo       0  \n",
            "802       idlib       1  \n",
            "803  deir ezzor       1  \n",
            "\n",
            "[804 rows x 7 columns]\n"
          ]
        }
      ]
    },
    {
      "cell_type": "code",
      "source": [
        "df.dropna(subset=['date'], inplace = True)\n",
        "print(df)"
      ],
      "metadata": {
        "colab": {
          "base_uri": "https://localhost:8080/"
        },
        "id": "WWWOFftrNqVW",
        "outputId": "85907fe1-77b0-4668-e3c3-7d3e5de80de0"
      },
      "execution_count": 17,
      "outputs": [
        {
          "output_type": "stream",
          "name": "stdout",
          "text": [
            "        unit_id                                      article_title  \\\n",
            "0    1914947530  Syria attack symptoms consistent with nerve ag...   \n",
            "1    1914947532  Homs governor says U.S. attack caused deaths b...   \n",
            "2            na    Death toll from Aleppo bomb attack at least 112   \n",
            "3    1914947534        Aleppo bomb blast kills six Syrian state TV   \n",
            "4    1914947535  29 Syria Rebels Dead in Fighting for Key Alepp...   \n",
            "..          ...                                                ...   \n",
            "799  1965511221    Turkish Bombardment Kills 20 Civilians in Syria   \n",
            "800  1965511222    Martyrs as Terrorists Shell Aleppos Salah Eddin   \n",
            "801  1965511224  Chemical Attack Kills Five Syrians in Aleppo SANA   \n",
            "802  1965511226  5 Killed as Russian Military Chopper Shot down...   \n",
            "803  1965511231  Syrian Army Kills 48 ISIL Terrorists in Deir E...   \n",
            "\n",
            "                                       article_content source       date  \\\n",
            "0    Wed 05 Apr 2017 Syria attack symptoms consiste...    nna 2017-04-05   \n",
            "1    Fri 07 Apr 2017 at 0914 Homs governor says U.S...    nna 2017-04-07   \n",
            "2    Sun 16 Apr 2017 Death toll from Aleppo bomb at...    nna 2017-04-16   \n",
            "3    Wed 19 Apr 2017 Aleppo bomb blast kills six Sy...    nna 2017-04-19   \n",
            "4    Sun 10 Jul 2016 29 Syria Rebels Dead in Fighti...    nna 2016-07-10   \n",
            "..                                                 ...    ...        ...   \n",
            "799  28-08-2016 Turkish Bombardment Kills 20 Civili...  manar 2016-08-28   \n",
            "800  17-08-2016 Martyrs as Terrorists Shell Aleppos...  manar 2016-08-01   \n",
            "801  03-08-2016 Chemical Attack Kills Five Syrians ...  manar 2016-08-03   \n",
            "802  01-08-2016 5 Killed as Russian Military Choppe...  manar 2016-08-01   \n",
            "803  April 6 2017 Syrian Army Kills 48 ISIL Terrori...  manar 2017-04-04   \n",
            "\n",
            "       location  labels  \n",
            "0         idlib       0  \n",
            "1          homs       0  \n",
            "2        aleppo       0  \n",
            "3        aleppo       0  \n",
            "4        aleppo       0  \n",
            "..          ...     ...  \n",
            "799      aleppo       1  \n",
            "800      aleppo       1  \n",
            "801      aleppo       0  \n",
            "802       idlib       1  \n",
            "803  deir ezzor       1  \n",
            "\n",
            "[804 rows x 7 columns]\n"
          ]
        }
      ]
    },
    {
      "cell_type": "code",
      "source": [
        "print(df.duplicated())\n"
      ],
      "metadata": {
        "colab": {
          "base_uri": "https://localhost:8080/"
        },
        "id": "cizlN2_VOKF4",
        "outputId": "84728704-549c-4d73-894a-d23584839d8c"
      },
      "execution_count": 15,
      "outputs": [
        {
          "output_type": "stream",
          "name": "stdout",
          "text": [
            "0      False\n",
            "1      False\n",
            "2      False\n",
            "3      False\n",
            "4      False\n",
            "       ...  \n",
            "799    False\n",
            "800    False\n",
            "801    False\n",
            "802    False\n",
            "803    False\n",
            "Length: 804, dtype: bool\n"
          ]
        }
      ]
    },
    {
      "cell_type": "code",
      "source": [
        "df.drop_duplicates(inplace = True)\n",
        "print(df)"
      ],
      "metadata": {
        "colab": {
          "base_uri": "https://localhost:8080/"
        },
        "id": "LhjjWFkuOQ3O",
        "outputId": "5a1149b5-c55a-46d6-c940-902969add215"
      },
      "execution_count": 26,
      "outputs": [
        {
          "output_type": "stream",
          "name": "stdout",
          "text": [
            "        unit_id                                      article_title  \\\n",
            "0    1914947530  Syria attack symptoms consistent with nerve ag...   \n",
            "1    1914947532  Homs governor says U.S. attack caused deaths b...   \n",
            "2            na    Death toll from Aleppo bomb attack at least 112   \n",
            "3    1914947534        Aleppo bomb blast kills six Syrian state TV   \n",
            "4    1914947535  29 Syria Rebels Dead in Fighting for Key Alepp...   \n",
            "..          ...                                                ...   \n",
            "799  1965511221    Turkish Bombardment Kills 20 Civilians in Syria   \n",
            "800  1965511222    Martyrs as Terrorists Shell Aleppos Salah Eddin   \n",
            "801  1965511224  Chemical Attack Kills Five Syrians in Aleppo SANA   \n",
            "802  1965511226  5 Killed as Russian Military Chopper Shot down...   \n",
            "803  1965511231  Syrian Army Kills 48 ISIL Terrorists in Deir E...   \n",
            "\n",
            "                                       article_content source       date  \\\n",
            "0    Wed 05 Apr 2017 Syria attack symptoms consiste...    nna 2017-04-05   \n",
            "1    Fri 07 Apr 2017 at 0914 Homs governor says U.S...    nna 2017-04-07   \n",
            "2    Sun 16 Apr 2017 Death toll from Aleppo bomb at...    nna 2017-04-16   \n",
            "3    Wed 19 Apr 2017 Aleppo bomb blast kills six Sy...    nna 2017-04-19   \n",
            "4    Sun 10 Jul 2016 29 Syria Rebels Dead in Fighti...    nna 2016-07-10   \n",
            "..                                                 ...    ...        ...   \n",
            "799  28-08-2016 Turkish Bombardment Kills 20 Civili...  manar 2016-08-28   \n",
            "800  17-08-2016 Martyrs as Terrorists Shell Aleppos...  manar 2016-08-01   \n",
            "801  03-08-2016 Chemical Attack Kills Five Syrians ...  manar 2016-08-03   \n",
            "802  01-08-2016 5 Killed as Russian Military Choppe...  manar 2016-08-01   \n",
            "803  April 6 2017 Syrian Army Kills 48 ISIL Terrori...  manar 2017-04-04   \n",
            "\n",
            "       location  labels  \n",
            "0         idlib       0  \n",
            "1          homs       0  \n",
            "2        aleppo       0  \n",
            "3        aleppo       0  \n",
            "4        aleppo       0  \n",
            "..          ...     ...  \n",
            "799      aleppo       1  \n",
            "800      aleppo       1  \n",
            "801      aleppo       0  \n",
            "802       idlib       1  \n",
            "803  deir ezzor       1  \n",
            "\n",
            "[802 rows x 7 columns]\n"
          ]
        }
      ]
    },
    {
      "cell_type": "code",
      "source": [
        "df.corr()"
      ],
      "metadata": {
        "colab": {
          "base_uri": "https://localhost:8080/",
          "height": 135
        },
        "id": "dInMo_WNP3kF",
        "outputId": "eabe30fa-2b9b-47c0-f9da-7166883f9de4"
      },
      "execution_count": 29,
      "outputs": [
        {
          "output_type": "stream",
          "name": "stderr",
          "text": [
            "<ipython-input-29-2f6f6606aa2c>:1: FutureWarning: The default value of numeric_only in DataFrame.corr is deprecated. In a future version, it will default to False. Select only valid columns or specify the value of numeric_only to silence this warning.\n",
            "  df.corr()\n"
          ]
        },
        {
          "output_type": "execute_result",
          "data": {
            "text/plain": [
              "        labels\n",
              "labels     1.0"
            ],
            "text/html": [
              "\n",
              "  <div id=\"df-10a22ef7-0540-41a1-afc2-607dccf49633\">\n",
              "    <div class=\"colab-df-container\">\n",
              "      <div>\n",
              "<style scoped>\n",
              "    .dataframe tbody tr th:only-of-type {\n",
              "        vertical-align: middle;\n",
              "    }\n",
              "\n",
              "    .dataframe tbody tr th {\n",
              "        vertical-align: top;\n",
              "    }\n",
              "\n",
              "    .dataframe thead th {\n",
              "        text-align: right;\n",
              "    }\n",
              "</style>\n",
              "<table border=\"1\" class=\"dataframe\">\n",
              "  <thead>\n",
              "    <tr style=\"text-align: right;\">\n",
              "      <th></th>\n",
              "      <th>labels</th>\n",
              "    </tr>\n",
              "  </thead>\n",
              "  <tbody>\n",
              "    <tr>\n",
              "      <th>labels</th>\n",
              "      <td>1.0</td>\n",
              "    </tr>\n",
              "  </tbody>\n",
              "</table>\n",
              "</div>\n",
              "      <button class=\"colab-df-convert\" onclick=\"convertToInteractive('df-10a22ef7-0540-41a1-afc2-607dccf49633')\"\n",
              "              title=\"Convert this dataframe to an interactive table.\"\n",
              "              style=\"display:none;\">\n",
              "        \n",
              "  <svg xmlns=\"http://www.w3.org/2000/svg\" height=\"24px\"viewBox=\"0 0 24 24\"\n",
              "       width=\"24px\">\n",
              "    <path d=\"M0 0h24v24H0V0z\" fill=\"none\"/>\n",
              "    <path d=\"M18.56 5.44l.94 2.06.94-2.06 2.06-.94-2.06-.94-.94-2.06-.94 2.06-2.06.94zm-11 1L8.5 8.5l.94-2.06 2.06-.94-2.06-.94L8.5 2.5l-.94 2.06-2.06.94zm10 10l.94 2.06.94-2.06 2.06-.94-2.06-.94-.94-2.06-.94 2.06-2.06.94z\"/><path d=\"M17.41 7.96l-1.37-1.37c-.4-.4-.92-.59-1.43-.59-.52 0-1.04.2-1.43.59L10.3 9.45l-7.72 7.72c-.78.78-.78 2.05 0 2.83L4 21.41c.39.39.9.59 1.41.59.51 0 1.02-.2 1.41-.59l7.78-7.78 2.81-2.81c.8-.78.8-2.07 0-2.86zM5.41 20L4 18.59l7.72-7.72 1.47 1.35L5.41 20z\"/>\n",
              "  </svg>\n",
              "      </button>\n",
              "      \n",
              "  <style>\n",
              "    .colab-df-container {\n",
              "      display:flex;\n",
              "      flex-wrap:wrap;\n",
              "      gap: 12px;\n",
              "    }\n",
              "\n",
              "    .colab-df-convert {\n",
              "      background-color: #E8F0FE;\n",
              "      border: none;\n",
              "      border-radius: 50%;\n",
              "      cursor: pointer;\n",
              "      display: none;\n",
              "      fill: #1967D2;\n",
              "      height: 32px;\n",
              "      padding: 0 0 0 0;\n",
              "      width: 32px;\n",
              "    }\n",
              "\n",
              "    .colab-df-convert:hover {\n",
              "      background-color: #E2EBFA;\n",
              "      box-shadow: 0px 1px 2px rgba(60, 64, 67, 0.3), 0px 1px 3px 1px rgba(60, 64, 67, 0.15);\n",
              "      fill: #174EA6;\n",
              "    }\n",
              "\n",
              "    [theme=dark] .colab-df-convert {\n",
              "      background-color: #3B4455;\n",
              "      fill: #D2E3FC;\n",
              "    }\n",
              "\n",
              "    [theme=dark] .colab-df-convert:hover {\n",
              "      background-color: #434B5C;\n",
              "      box-shadow: 0px 1px 3px 1px rgba(0, 0, 0, 0.15);\n",
              "      filter: drop-shadow(0px 1px 2px rgba(0, 0, 0, 0.3));\n",
              "      fill: #FFFFFF;\n",
              "    }\n",
              "  </style>\n",
              "\n",
              "      <script>\n",
              "        const buttonEl =\n",
              "          document.querySelector('#df-10a22ef7-0540-41a1-afc2-607dccf49633 button.colab-df-convert');\n",
              "        buttonEl.style.display =\n",
              "          google.colab.kernel.accessAllowed ? 'block' : 'none';\n",
              "\n",
              "        async function convertToInteractive(key) {\n",
              "          const element = document.querySelector('#df-10a22ef7-0540-41a1-afc2-607dccf49633');\n",
              "          const dataTable =\n",
              "            await google.colab.kernel.invokeFunction('convertToInteractive',\n",
              "                                                     [key], {});\n",
              "          if (!dataTable) return;\n",
              "\n",
              "          const docLinkHtml = 'Like what you see? Visit the ' +\n",
              "            '<a target=\"_blank\" href=https://colab.research.google.com/notebooks/data_table.ipynb>data table notebook</a>'\n",
              "            + ' to learn more about interactive tables.';\n",
              "          element.innerHTML = '';\n",
              "          dataTable['output_type'] = 'display_data';\n",
              "          await google.colab.output.renderOutput(dataTable, element);\n",
              "          const docLink = document.createElement('div');\n",
              "          docLink.innerHTML = docLinkHtml;\n",
              "          element.appendChild(docLink);\n",
              "        }\n",
              "      </script>\n",
              "    </div>\n",
              "  </div>\n",
              "  "
            ]
          },
          "metadata": {},
          "execution_count": 29
        }
      ]
    },
    {
      "cell_type": "code",
      "source": [
        "import matplotlib.pyplot as plt\n",
        "df.plot()\n",
        "plt.show()"
      ],
      "metadata": {
        "colab": {
          "base_uri": "https://localhost:8080/",
          "height": 430
        },
        "id": "r9XS_qdjQrMz",
        "outputId": "a9263080-465c-458d-fe71-03795ffe0e98"
      },
      "execution_count": 34,
      "outputs": [
        {
          "output_type": "display_data",
          "data": {
            "text/plain": [
              "<Figure size 640x480 with 1 Axes>"
            ],
            "image/png": "[encoded data removed]"
          },
          "metadata": {}
        }
      ]
    }
  ]
}